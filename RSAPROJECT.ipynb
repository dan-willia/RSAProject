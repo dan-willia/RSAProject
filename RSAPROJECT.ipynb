{
 "cells": [
  {
   "cell_type": "markdown",
   "metadata": {},
   "source": [
    "## RSA - The Project"
   ]
  },
  {
   "cell_type": "markdown",
   "metadata": {},
   "source": [
    "Name:  Daniel Williams\n",
    "\n",
    "Moodle Email: dawi2291@colorado.edu\n",
    "\n",
    "Name your file \"cuidentikey\".ipynb  This means YOUR identikey. \n",
    "\n",
    "**Do NOT delete instructions or pre-existing comments in the code. Removal will trigger significat point reductions** \n",
    "\n",
    "**Required: Add your own comments as if the instructions and comments are not visible - this allows you to customize your project after the course**\n",
    "\n"
   ]
  },
  {
   "cell_type": "markdown",
   "metadata": {},
   "source": [
    "**The Prompt:**\n",
    "\n",
    "Your boss has been long intrigued by the RSA algorthim and has asked you to create a turorial RSA walk through and exploration project to help the boss and others in the company to understand the basic structures and mathematics of an RSA implementation.\n",
    "\n",
    "Your project will:\n",
    "1. Implement the algorithm for breaking codes with a given basic structure. \n",
    "2. Explain the steps in an \"Inverview Grading Style\" with Jupyter Lab Text blocks demostrating and explaining the function as you go. \n",
    "3. These demonstrations, explanations, and code comments must demonstrate that you understand the code and what it is doing. \n",
    "4. After the basic implementation you will rewrite the code completely with your own improvements, or copy the basic code package and add new features. This will be your custom feature.\n",
    "5. IMPORTANT - in the first implementation you will keep all instructions, given comments in the code, and use the variable names and set up as given. For your custom feature you may remove these and make the code \"your own.\" ALL CHANGE must be explained in text - why did you change/make improvements? We should be able to see how you adapted the orginal code.\n",
    "\n",
    "\n",
    "\n",
    "\n"
   ]
  },
  {
   "cell_type": "markdown",
   "metadata": {},
   "source": [
    "<hr />\n",
    "\n",
    "# Table of Contents/Grading Structure\n",
    "\n",
    "#### 0. Bonus +/- Overall structure, code comments, and following directions. (Score may go up or down if overall structure or format is excellent or incomplete). Not extra credit.\n",
    "\n",
    "## 1. Introduction to your RSA Project (5 points)\n",
    "\n",
    "\n",
    "## 2. Code Package: FME    (10 points)\n",
    "        * Convert_Binary_String \n",
    "        * FME\n",
    "\n",
    "## 3. Code Package: Key Generation using Euclidean Algorithms    (10 points)\n",
    "        * Euclidean Algorithm\n",
    "        * Extended EA\n",
    "        * Find_Public_Key_e\n",
    "        * Find_Private_Key_d\n",
    "\n",
    "## 4. Code Package: En/Decode Your Messages  (10 points)\n",
    "        * Convert_Text\n",
    "        * Convert_Num\n",
    "        * Encode\n",
    "        * Decode\n",
    "\n",
    "\n",
    "## 5. Create a Code Demo(10 points)\n",
    "\n",
    "## 6. Code Exchange Results  (5 points)\n",
    "\n",
    "## 7. Write a Narrative (25 points)\n",
    "\n",
    "## 8. Code Breaking:  (10 points)\n",
    "\n",
    "## 9. Code Breaking: Complete Examples  (5 points)\n",
    "\n",
    "## 10. Custom code feature / Advanced options  (10 points) \n",
    "\n",
    "\n",
    "    \n"
   ]
  },
  {
   "cell_type": "markdown",
   "metadata": {},
   "source": [
    "\n",
    "\n",
    "\n",
    "\n",
    "\n"
   ]
  },
  {
   "cell_type": "markdown",
   "metadata": {},
   "source": [
    "## 1. Introduction to your RSA Project (5 points) \n",
    "<span style=\"color:DarkRed\">Write an introduction/overview here. This should be something someone who has never seen your project could read to understand what is coming. Give a broad summarized overview of RSA components, discuss your custom feature a bit, and  include some preliminary narrative regarding your process. Much of this will be fleshed out in your narrative below, so remember to simply summarize details. This should be a robust paragraph or two of 200 - 300 words.</span>\n"
   ]
  },
  {
   "cell_type": "markdown",
   "metadata": {},
   "source": [
    "Welcome to my RSA project. RSA is an encryption scheme that allows secure transfer of information where neither party needs to exchange a \"secret\" key. To understand the significance of this, consider one approach to sending an encoded message. You want to send a super secret message to your friend, so you encode your message with a super strong encoding algorithm. You send it to your friend. Your friend writes back a message saying, \"Thanks for the message, but how do I decode it?\" You now have to find a way to communicate to them the \"key\" to decoding the message. But how can you send them the key securely? If you encrypt the key, we need another key to decrypt it, and so on and so on. This highlights an issue with \"secret\" key schemes: you need to have a way of securely exchanging keys. This is the \"private key\" apporach. RSA uses a \"public key\" approach, which does not rely on the secure transfer of private keys. Rather, both recipient and receiver (and everyone else in the network) have two pairs of keys, a public pair, which everyone knows, and a private pair, which only the owner knows. If you wish to send a message to receipient A, you use their public key to encode a message. This encoding can only be broken by recipient A's private key. Hence, no secret keys are exchanged. The beauty of RSA lies in the fact that there are relatively simple algorithms that can produce such pairs of numbers that satisfy the requirements for being public and private keys. \n",
    "\n",
    "This program implements the basic RSA scheme. In addition, I added a custom feature which is an interactive command line program that expands on the basic encoding and decoding of messages. In this program, you choose to generate n-digit keys (though don't go above 7), encrypt and decrypt .txt files, attempt to break keys, as well as encode and decode messages."
   ]
  },
  {
   "cell_type": "markdown",
   "metadata": {},
   "source": [
    "## 2. Code Package FME (10 points)\n",
    "\n",
    "<span style=\"color:DarkRed\"> \n",
    "\n",
    "FME is an essential function for RSA to pre-process the messages before the messages are encoded and decoded by the RSA algorithm. \n",
    "You have 3 choices of algorithms for this:\n",
    "* The Rosen Book FME - which will need Convert_Binary_String below.\n",
    "* Sriram's FME from the video.\n",
    "* Your own \"Square and Mod\" function defined with a look up table.\n",
    "    \n",
    "*Do not copy code from the internet - it is recognized immediately by our software. In particular, use of bitshifting is forbidden in the first part of the project but may be explored in the custom feature.*\n",
    "</span>\n",
    "\n"
   ]
  },
  {
   "cell_type": "code",
   "execution_count": 1,
   "metadata": {},
   "outputs": [],
   "source": [
    "def Convert_Binary_String(_int):\n",
    "    \"\"\"\n",
    "    Here, you need to define a function that converts an integer to\n",
    "    a string of its binary expansion. You may or may not need this function. \n",
    "    \n",
    "    For example:\n",
    "    _int = 345\n",
    "    bits = 101011001\n",
    "    \"\"\"\n",
    "    '''\n",
    "    converts an integer to bitstring\n",
    "    \n",
    "    _int : int\n",
    "    \n",
    "    return string\n",
    "    '''\n",
    "    \n",
    "    l = []\n",
    "    while _int>0:\n",
    "        k = _int % 2\n",
    "        l.insert(0,k)\n",
    "        _int = _int // 2\n",
    "    \n",
    "    ret = ''\n",
    "    for ch in l:\n",
    "        ret += str(ch)\n",
    "        \n",
    "    return ret"
   ]
  },
  {
   "cell_type": "code",
   "execution_count": 2,
   "metadata": {},
   "outputs": [],
   "source": [
    "def FME(b, n, m):\n",
    "    \"\"\"\n",
    "    1. Using the fast modular exponentiation algorithm,\n",
    "    the below function should return b**n mod m.\n",
    "    As described on page 254. (however, you may input the exponent and \n",
    "    then convert it to a string - the book version imports the binary expansion)  \n",
    "    2. You should use the function defined above Convert_Binary_String() if using the book algorithm.\n",
    "    3. For this block you MUST use one of the 3 methods above.\n",
    "    4. Any method using bit-shifting or copied from the internet (even changing varibale names) will result in a 0.\n",
    "    \n",
    "    **If you are completely stuck, you may use pow() with a 10pt penalty.**\n",
    "\n",
    "    You may use the function you developed in your Mastery Workbook - but be sure it is your own\n",
    "    work, commented, etc. and change inputs as needed.\n",
    "    \"\"\"  \n",
    "    \n",
    "    '''\n",
    "    b, n, m : int\n",
    "    \n",
    "    returns b ** n mod m using Siriam's fast modular exponentiation algorithm\n",
    "    \n",
    "    return int\n",
    "    '''    \n",
    "    \n",
    "    result = 1\n",
    "    square = b\n",
    "    while n > 0:\n",
    "        k = n % 2\n",
    "        n = int(n/2)\n",
    "        if k == 1:\n",
    "            result = result*square % m\n",
    "        square = square*square % m\n",
    "    \n",
    "    return result"
   ]
  },
  {
   "cell_type": "markdown",
   "metadata": {},
   "source": [
    "## 3. Code Package: Key Generation using Euclidean Algorithms    (10 points)\n",
    "\n",
    "<span style=\"color:DarkRed\">\n",
    "\n",
    "The functions below will generate the public and private key pairs which will then be used to create a ciphertext using the public key and then decode the same using the private key. </span>\n",
    "\n"
   ]
  },
  {
   "cell_type": "code",
   "execution_count": 3,
   "metadata": {},
   "outputs": [],
   "source": [
    "def Euclidean_Alg(a, b):\n",
    "    \"\"\"\n",
    "    1. Calculate the Greatest Common Divisor of a and b.\n",
    "    \n",
    "    2. This version should have only positive inputs and outputs.\n",
    "    \n",
    "    3. The function must return a single integer ('x') which is\n",
    "    the gcd of a and b.\n",
    "    \n",
    "    \"\"\"\n",
    "    '''\n",
    "    a, b : positive int\n",
    "    \n",
    "    returns gcd(a,b)\n",
    "    \n",
    "    return positive int\n",
    "    '''    \n",
    "    assert a > 0 and b > 0\n",
    "    \n",
    "    # ensure a > b\n",
    "    if b > a:\n",
    "        tmp = a\n",
    "        a = b\n",
    "        b = tmp\n",
    "        \n",
    "    while b > 0:\n",
    "        k = a % b\n",
    "        a = b\n",
    "        b = k\n",
    "        \n",
    "    return a\n",
    "        "
   ]
  },
  {
   "cell_type": "code",
   "execution_count": 4,
   "metadata": {},
   "outputs": [],
   "source": [
    "def EEA(a, b):\n",
    "    \"\"\"\n",
    "    This is a helper function utilizing Bezout's theorem as discussed in your MW.\n",
    "    You will follow these same steps closely to construct this function.\n",
    "    \n",
    "    This version will return both: \n",
    "    1. the GCD of a, b \n",
    "    2. Bezout's coefficients in any form you wish. We recommend returning your coefficients as a list or a tuple. \n",
    "    HINT: return GCD, (s1, t1)\n",
    "    \n",
    "    * Ensure that your inputs are positive integers. Implement these kinds of checks.\n",
    "    * It might also behoove you to consider reassigning a, b to new coefficients depending on which is greater.\n",
    "    \n",
    "    \"\"\"\n",
    "    \n",
    "    '''\n",
    "    a, b : positive int\n",
    "    \n",
    "    returns a list of gcd(a,b) and the Bézout coefficients s1, t1 of a and b respectively \n",
    "    \n",
    "    return [int, int, int]\n",
    "    '''\n",
    "\n",
    "    assert a > 0 and b > 0 \n",
    "\n",
    "    # make sure a > b\n",
    "    if b > a:\n",
    "        tmp = a\n",
    "        a = b\n",
    "        b = tmp\n",
    "    \n",
    "    s1, t1 = 1, 0\n",
    "    s2, t2 = 0, 1\n",
    "\n",
    "    while b > 0:\n",
    "        k = a % b\n",
    "        q = a // b\n",
    "\n",
    "        a = b\n",
    "        b = k\n",
    "\n",
    "        s1hat, t1hat = s2, t2\n",
    "        s2hat, t2hat = s1-q*s2, t1-q*t2\n",
    "\n",
    "        s1, t1 = s1hat, t1hat\n",
    "        s2, t2 = s2hat, t2hat\n",
    "\n",
    "    return [a, s1, t1]"
   ]
  },
  {
   "cell_type": "code",
   "execution_count": 5,
   "metadata": {},
   "outputs": [],
   "source": [
    "import random\n",
    "import math\n",
    "\n",
    "def Find_Public_Key_e(p, q):\n",
    "    \"\"\"\n",
    "    Implement this function such that\n",
    "    it takes 2 primes p and q.\n",
    "    \n",
    "    Use the gcd function that you have \n",
    "    defined before.\n",
    "    \n",
    "    The function should return 2 elements as follows:\n",
    "    public key: n\n",
    "    public key: e\n",
    "    \n",
    "    HINT: this function will run a loop to find e such \n",
    "    that e is relatively prime to (p - 1) (q - 1) \n",
    "    and not equal to p or q.\n",
    "    \n",
    "    NOTE: There are a number of ways to implement this key feature. \n",
    "    You, as the coder, can choose to how to acheive this goal.\n",
    "    \n",
    "    \"\"\"\n",
    "    '''\n",
    "    p, q : int\n",
    "    ASSUME p and q are prime\n",
    "    \n",
    "    returns a two-element list [n,e]\n",
    "    \n",
    "    returns [int, int]\n",
    "    '''\n",
    "    \n",
    "    n = p*q\n",
    "    \n",
    "    modulus = (p-1)*(q-1)\n",
    "    \n",
    "    # will choose from list of possible e's\n",
    "    lst = list(range(2, modulus))\n",
    "\n",
    "    for i in range(2,modulus):\n",
    "        e = random.choice(lst)  \n",
    "        gcd = Euclidean_Alg(e, modulus)\n",
    "        if gcd == 1 and e != p and e != q:\n",
    "            break\n",
    "        else:\n",
    "            lst.remove(e)\n",
    "        \n",
    "    return [n, e]\n"
   ]
  },
  {
   "cell_type": "code",
   "execution_count": 6,
   "metadata": {},
   "outputs": [],
   "source": [
    "def Find_Private_Key_d(e, p, q):\n",
    "    \"\"\"\n",
    "    Implement this function to find the decryption exponent d, \n",
    "    such that d is the modular inverse of e. \n",
    "    \n",
    "    This will use the Extended Euclidean Algorithm\n",
    "    \n",
    "    This function should return the following:\n",
    "    d: the decryption component.\n",
    "    \n",
    "    This is not a single action, and there are multiple methods to create this. \n",
    "    \n",
    "    You may create a helper function or have all code within this function.\n",
    "    \n",
    "    Plan ahead before coding this.\n",
    "\n",
    "    \"\"\"\n",
    "    '''\n",
    "    e, p, q : int\n",
    "    \n",
    "    calculates d, the modular inverse of e mod (p-1)*(q-1)\n",
    "    \n",
    "    return positive int\n",
    "    '''\n",
    "\n",
    "    m = (p-1)*(q-1)\n",
    "    EEA_result = EEA(e,m)\n",
    "    d = EEA_result[2]\n",
    "    \n",
    "    # ensure return value is non-negative\n",
    "    while d < 0:\n",
    "        d += m\n",
    "    \n",
    "    return d\n",
    "\n"
   ]
  },
  {
   "cell_type": "markdown",
   "metadata": {},
   "source": [
    "## 4. Code Package: En/Decode Your Messages  (10 points)\n",
    "\n",
    "<span style=\"color:DarkRed\">\n",
    "\n",
    "1. In this part, you will define two functions `Encode` and `Decode` which will use the public and private keys that you calculated above.\n",
    "2. Using the public key, the `Encode` function will encode a message and generate the corresponding cipher_text.\n",
    "3. Using the private key, the `Decode` function will decode a cipher_text and recover the original message.\n",
    "4. We are proving Convert_Text and Convert_Num for you.</span>\n",
    "\n"
   ]
  },
  {
   "cell_type": "code",
   "execution_count": 7,
   "metadata": {},
   "outputs": [],
   "source": [
    "def Convert_Text(_string):\n",
    "    \"\"\"\n",
    "    Define this function such that it takes in a simple \n",
    "    string such as \"hello\" and outputs the corresponding\n",
    "    standard list of integers (ascii) for each letter in the word hello.\n",
    "    For example:\n",
    "    _string = hello\n",
    "    integer_list = [104, 101, 108, 108, 111]\n",
    "    \n",
    "    You may use \"ord()\"\n",
    "    \"\"\"\n",
    "    '''\n",
    "    _string : string\n",
    "    \n",
    "    converts string to a list of integers using ascii standard encoding\n",
    "    \n",
    "    return [int]\n",
    "    '''\n",
    "    integer_list = []\n",
    "    \n",
    "    for ch in _string:\n",
    "        integer_list.append(ord(ch))\n",
    "\n",
    "    return integer_list"
   ]
  },
  {
   "cell_type": "code",
   "execution_count": 8,
   "metadata": {},
   "outputs": [],
   "source": [
    "def Convert_Num(_list):\n",
    "    \"\"\"\n",
    "    Do the opposite of what you did in the Convert_Text\n",
    "    function defined above.\n",
    "    \n",
    "    Define this function such that it takes in a list of integers\n",
    "    and outputs the corresponding string (ascii).\n",
    "    \n",
    "    For example:\n",
    "    _list = [104, 101, 108, 108, 111]\n",
    "    _string = hello\n",
    "    \"\"\"\n",
    "    '''\n",
    "    _list : [int]\n",
    "    \n",
    "    converts a list of integers to their ascii string representations\n",
    "    \n",
    "    return string\n",
    "    '''    \n",
    "\n",
    "    _string = ''\n",
    "    for i in _list:\n",
    "        _string += chr(i)\n",
    "    return _string"
   ]
  },
  {
   "cell_type": "code",
   "execution_count": 9,
   "metadata": {},
   "outputs": [],
   "source": [
    "def Encode(n, e, message):\n",
    "    \"\"\"\n",
    "    Here, the message will be a string of characters.\n",
    "    Use the function Convert_Text from \n",
    "    the basic tool set and get a list of numbers.\n",
    "    \n",
    "    Encode each of these numbers using n and e and\n",
    "    return the encoded cipher_text.\n",
    "    \"\"\"\n",
    "    '''\n",
    "    n, e : int\n",
    "    message : str\n",
    "    \n",
    "    takes a string message and uses a public key to convert it to a list of integers\n",
    "    \n",
    "    return [int]\n",
    "    '''\n",
    "    cipher_text = []\n",
    "    \n",
    "    translated_message = Convert_Text(message)\n",
    "    \n",
    "    for ch in translated_message:\n",
    "        cipher_text.append(FME(ch,e,n))\n",
    "\n",
    "    return cipher_text"
   ]
  },
  {
   "cell_type": "code",
   "execution_count": 10,
   "metadata": {},
   "outputs": [],
   "source": [
    "def Decode(n, d, cipher_text):\n",
    "    \"\"\"\n",
    "    Here, the cipher_text will be a list of integers.\n",
    "    First, you will decrypt each of those integers using \n",
    "    n and d.\n",
    "    \n",
    "    Later, you will need to use the function Convert_Num from the \n",
    "    basic toolset to recover the original message as a string. \n",
    "    \n",
    "    \"\"\"\n",
    "    '''\n",
    "    n, d : int\n",
    "    cipher_text : [int]\n",
    "    \n",
    "    takes a list of integers and uses the private key to decrypt the message\n",
    "    \n",
    "    return string\n",
    "    '''\n",
    "    decrypted_text = []    \n",
    "\n",
    "    for number in cipher_text:\n",
    "        decrypted_text.append(FME(number, d, n))\n",
    "        \n",
    "    message = Convert_Num(decrypted_text)\n",
    "\n",
    "    return message"
   ]
  },
  {
   "cell_type": "markdown",
   "metadata": {
    "tags": []
   },
   "source": [
    "### <span style=\"color:white\">5.</span>  Create a Code Demo (10 points)\n",
    "<span style=\"color:black\">\n",
    "\n",
    "Construct a demonstration of your functions above. This will be a **step-by-step** guide to using your code with a specific example that we can follow using the functions you have created above **using a mix of code and Markdown blocks**. Choose your own \"Hello World\" type message or a favorite quote of your choosing to code and decode yourself.\n",
    " \n",
    "**This is essentially a test that demonstrates your code with a small walkthrough of how it works. You are simply calling the functions above. You are not using a main function or custom feature here.** Imagine this as a code interview scenario, and your interviewer/future boss wants a preliminary walkthrough of your work. Therefore, some text blocks are essential and helpful for your boss to follow your process. \n",
    "\n",
    "Note: You can change and add the type of cell block you are editing with the drop down menu above and go between Code and Markdown.\n",
    "\n",
    "**This is a mix of code blocks and text blocks** and must discuss all three parts for full credit. You must **show and explain your method and demonstrate (by calling your function as an example)** for generating keys and how your encoding and decoding functions work. \n",
    "\n",
    "For full credit: \n",
    "    \n",
    "* When you call FME, explain breifly why we can can't take the \"mod\" of our number using \"%\". \n",
    "* When you call the EEA, explain why this is so essential and really the key to RSA process.</span>\n",
    "\n"
   ]
  },
  {
   "cell_type": "markdown",
   "metadata": {},
   "source": [
    "* Demonstrate and explain how you Generate keys with code and text blocks."
   ]
  },
  {
   "cell_type": "markdown",
   "metadata": {},
   "source": [
    "### Code walkthrough ###\n",
    "\n",
    "In this walkthrough I'll show you how my RSA functions work. We'll see how to find public and private keys, and how to use those keys to encode and decode messages. \n",
    "\n",
    "To generate keys, we need to find two primes. This can be done by looking up two primes in a database, such as (https://t5k.org/curios/index.php?start=2&stop=2). Later, in my custom feature section, we will generate them from scratch, but for now, say we visit the website linked above and find two primes, 2707 and 1811. We pass them to our functions which generate public and private keys:"
   ]
  },
  {
   "cell_type": "code",
   "execution_count": 11,
   "metadata": {},
   "outputs": [
    {
     "name": "stdout",
     "output_type": "stream",
     "text": [
      "This is my public key (n, e): (4902377, 2204677)\n",
      "This is my private key (n, d): (4902377, 3016393)\n"
     ]
    }
   ],
   "source": [
    "p = 2707\n",
    "q = 1811\n",
    "\n",
    "n, e = Find_Public_Key_e(p,q)\n",
    "d = Find_Private_Key_d(e,p,q)\n",
    "\n",
    "print(f\"This is my public key (n, e): ({n}, {e})\")\n",
    "print(f\"This is my private key (n, d): ({n}, {d})\")"
   ]
  },
  {
   "cell_type": "markdown",
   "metadata": {},
   "source": [
    "I'll explain how the two functions work.\n",
    "\n",
    "In Find_Public_Key_e, the two primes, p and q, are multiplied together. This is n, which is the first element in public key. We then need to find the second element in the public key, which is a number that is relatively prime to (p-1)*(q-1), called e. There are potentially many numbers that satisfy the required property. The code is written to randomly choose numbers from a list of candidates so that different e's can be returned for the same primes, p and q. The following code block demonstrates this. "
   ]
  },
  {
   "cell_type": "code",
   "execution_count": 12,
   "metadata": {},
   "outputs": [
    {
     "name": "stdout",
     "output_type": "stream",
     "text": [
      "[4902377, 1324099]\n",
      "[4902377, 4306913]\n",
      "[4902377, 3338801]\n",
      "[4902377, 233411]\n",
      "[4902377, 3319711]\n",
      "[4902377, 1018453]\n",
      "[4902377, 474169]\n",
      "[4902377, 3759901]\n",
      "[4902377, 1185551]\n",
      "[4902377, 3453437]\n"
     ]
    }
   ],
   "source": [
    "for i in range(10):\n",
    "    print(Find_Public_Key_e(2707, 1811))"
   ]
  },
  {
   "cell_type": "markdown",
   "metadata": {},
   "source": [
    "Note that the second number changes with each iteration, even though the input values are the same. This allows more than one pair of public and private keys to be generated from the same pair of primes. \n",
    "\n",
    "Moving on to Find_Private_Key_d. This function requires as input values the same two primes, p and q, and the second element of the public key, e. The first element of the private key is the same as the public key, so we just need to find the second element of the private key, called d. This number is the modular inverse of e mod (p-1)(q-1). To find the modular inverse, we use the function EEA, which stands for Extended Euclidean Algorithm. \n",
    "\n",
    "The EEA is really the key to the whole RSA process. It is an extension of the simpler Euclidean Algorithm, which is a simple algorithm for finding the greatest common divisor of two numbers. In the following code block, we randomly select two integers and find their greatest common divisor (gcd) using the Euclidean Algorithm."
   ]
  },
  {
   "cell_type": "code",
   "execution_count": 13,
   "metadata": {},
   "outputs": [
    {
     "name": "stdout",
     "output_type": "stream",
     "text": [
      "The gcd of 794 and 293 is 1.\n",
      "The gcd of 783 and 493 is 29.\n",
      "The gcd of 907 and 277 is 1.\n",
      "The gcd of 825 and 301 is 1.\n",
      "The gcd of 934 and 304 is 2.\n",
      "The gcd of 921 and 250 is 1.\n",
      "The gcd of 725 and 284 is 1.\n",
      "The gcd of 713 and 192 is 1.\n",
      "The gcd of 561 and 90 is 3.\n",
      "The gcd of 863 and 462 is 1.\n"
     ]
    }
   ],
   "source": [
    "for i in range(10):\n",
    "    a = random.randint(500,1000)\n",
    "    b = random.randint(2,500)\n",
    "    \n",
    "    gcd = Euclidean_Alg(a, b)\n",
    "    print(f\"The gcd of {a} and {b} is {gcd}.\")"
   ]
  },
  {
   "cell_type": "markdown",
   "metadata": {},
   "source": [
    "To find the modular inverse of n mod m, n and m must be relatively prime, which is equivalent to their gcd being 1. Recall that we chose e such that it was relatively prime to (p-1)(q-1). This was done by randomly choosing numbers between 2 and (p-1)(q-1) and calculating their gcd using the Euclidean Algorithm until a suitable e was found.\n",
    "\n",
    "So we know that e and (p-1)(q-1) are relatively prime. To find the modular inverse, we can work backwards using the steps of the Euclidean algorithm. This, however, requires going through the 'while' loop in the algorithm a second time. A better method exists which is called the Extended Euclidean Algorithm (EEA). The EEA allows us to find a modular inverse without having to go through the entire while loop a second time. The EEA calculates not only the gcd of two integers, but also their Bezout coefficients, which I will explain next.\n",
    "\n",
    "Say we have two integers, a and b. The Bezout identity states that there exist two integers, i and j, such that ai + bj = gcd(a, b). i and j are called the Bezout coefficients of a and b, respectively. \n",
    "\n",
    "The EEA calculates all three of gcd and the Bezout coefficients of any two integers. This is demonstrated below."
   ]
  },
  {
   "cell_type": "code",
   "execution_count": 14,
   "metadata": {},
   "outputs": [
    {
     "name": "stdout",
     "output_type": "stream",
     "text": [
      "The gcd of 863 and 462 is 1\n",
      "The Bezout identity is 1 = 53*863 + -99*462\n",
      "53*863 + -99*462 is 1, which is the same as 1\n",
      "So, the Bezout coefficients of 863 and 462 are 53 and -99, respectively.\n"
     ]
    }
   ],
   "source": [
    "gcd, bzt_a, bzt_b = EEA(a, b)\n",
    "\n",
    "print(f\"The gcd of {a} and {b} is {gcd}\")\n",
    "print(f\"The Bezout identity is {gcd} = {bzt_a}*{a} + {bzt_b}*{b}\")\n",
    "print(f\"{bzt_a}*{a} + {bzt_b}*{b} is {bzt_a*a + bzt_b*b}, which is the same as {gcd}\")\n",
    "print(f\"So, the Bezout coefficients of {a} and {b} are {bzt_a} and {bzt_b}, respectively.\")"
   ]
  },
  {
   "cell_type": "markdown",
   "metadata": {},
   "source": [
    "We can see that the the same gcd is found in EEA as in the Euclidean_Alg. \n",
    "\n",
    "Why do we need the Bezout coefficients? We need them because we are trying to find the modular inverse of e mod (p-1)(q-1). A modular inverse of a mod m is a number x such that x*a <=> 1 mod m. \n",
    "\n",
    "When we calculate the Bezout identity with two coprime numbers a and b, we have 1 = ia + jb. This means that there is a multiple of a that, when added to a multiple of b, equals 1. This is the same as saying ia mod b = 1. So, i is a modular inverse of a mod b. In other words, the EEA allows us to quickly and efficiently find the modular inverse of e mod (p-1)(q-1), which is d, the second element of the private key. This is why the EEA is the key to the whole process. It allows us to efficiently find the private key."
   ]
  },
  {
   "cell_type": "markdown",
   "metadata": {},
   "source": [
    "So, we now have our public and private keys. As their names state, the public keys should be made public so that people can send encrypted messages to you. But those messages are only secure if your private key remains secret. Moreover, never share the primes that you used to generate the keys in the first place."
   ]
  },
  {
   "cell_type": "markdown",
   "metadata": {},
   "source": [
    "* Demonstrate and explain how you encode a message with code and text blocks."
   ]
  },
  {
   "cell_type": "markdown",
   "metadata": {},
   "source": [
    "To encode a message, we use the function ```Encode(n, e, M)```, where M is the message we want to encode and (n, e) is the *recipient's* public key. For this example we will send a message to ourselves. Let's send the message \"RSA rocks\". Since the recipient is ourself, we use our own public keys (n, e) that we found earlier to generate an encoded message, C: "
   ]
  },
  {
   "cell_type": "code",
   "execution_count": 15,
   "metadata": {},
   "outputs": [
    {
     "name": "stdout",
     "output_type": "stream",
     "text": [
      "Original message: RSA rocks\n",
      "Encoded message: [1205323, 1432608, 3191844, 258445, 2622942, 4841643, 2818734, 2984033, 1260198]\n"
     ]
    }
   ],
   "source": [
    "M = \"RSA rocks\"\n",
    "print(\"Original message:\", M)\n",
    "C = Encode(n, e, M)\n",
    "print(\"Encoded message:\", C)"
   ]
  },
  {
   "cell_type": "markdown",
   "metadata": {},
   "source": [
    "And now we have an encoded message. You can see that each integer in the list represents a character in the original message.\n",
    "\n",
    "I'll explain now how the Encode function works. \n",
    "\n",
    "The Encode function uses the public key to convert a message into a ciphertext, which just means that the original message turns into a list of (seemingly) random numbers. \n",
    "\n",
    "In the Encode function, we first convert the characters in the message to integers using a standard encoding. We do this using the function Convert_Text, which converts a character to its standard ASCII integer representation: "
   ]
  },
  {
   "cell_type": "code",
   "execution_count": 16,
   "metadata": {},
   "outputs": [
    {
     "name": "stdout",
     "output_type": "stream",
     "text": [
      "[104, 101, 108, 108, 111, 32, 119, 111, 114, 108, 100]\n"
     ]
    }
   ],
   "source": [
    "converted_message = Convert_Text(\"hello world\")\n",
    "print(converted_message)"
   ]
  },
  {
   "cell_type": "markdown",
   "metadata": {},
   "source": [
    "As you can see, the string \"hello world\" has been converted into a list of integers, where each character corresponds to an integer.\n",
    "\n",
    "Next, we use a public key to convert each of these integers into a different integer, which results in an encoded message:"
   ]
  },
  {
   "cell_type": "code",
   "execution_count": 17,
   "metadata": {},
   "outputs": [
    {
     "name": "stdout",
     "output_type": "stream",
     "text": [
      "2754603\n",
      "3103684\n",
      "1198142\n",
      "1198142\n",
      "4841643\n",
      "258445\n",
      "1454604\n",
      "4841643\n",
      "2622942\n",
      "1198142\n",
      "1968975\n"
     ]
    }
   ],
   "source": [
    "for ch in converted_message:\n",
    "    print(FME(ch, e, n))"
   ]
  },
  {
   "cell_type": "markdown",
   "metadata": {},
   "source": [
    "Here, we have converted the ASCII representations to numbers based on our public key (n, e).\n",
    "\n",
    "Doing this conversion requires calculating the mod of large numbers. For example, if the public key is (4902377, 1942399), and we need to encode a single character 'h', which is represented by the integer 104 in ASCII, then we need to calculate 104^(1942399) mod 4902377. 104^(1942399) is indeed a large number, but it is not even close to the magnitude of integers used when RSA is properly implemented, which uses numbers that are more than 100 digits long. In these cases, the usual mod function, %, is not fast enough. So instead we use something called Fast Modular Exponentiation, which is called FME in our package. FME is an efficient algorithm that works by using binary arithmetic and properties of exponents to quickly calculate the mod of a**b mod m."
   ]
  },
  {
   "cell_type": "markdown",
   "metadata": {},
   "source": [
    "* Demonstrate and explain how you decode the same message with code and text blocks.\n"
   ]
  },
  {
   "cell_type": "markdown",
   "metadata": {},
   "source": [
    "To decode a message someone has sent to us, we use the function ```Decode(n, d, C)```, where (n, d) is our private key and C is the encoded message. Let's decode our own message:"
   ]
  },
  {
   "cell_type": "code",
   "execution_count": 18,
   "metadata": {},
   "outputs": [
    {
     "name": "stdout",
     "output_type": "stream",
     "text": [
      "Encoded message: [1205323, 1432608, 3191844, 258445, 2622942, 4841643, 2818734, 2984033, 1260198]\n",
      "Decoded message: RSA rocks\n"
     ]
    }
   ],
   "source": [
    "print(\"Encoded message:\", C)\n",
    "M = Decode(n, d, C)\n",
    "print(\"Decoded message:\", M)"
   ]
  },
  {
   "cell_type": "markdown",
   "metadata": {},
   "source": [
    "Our decode function uses the private key to translate the list of integers back into a message. We can see that this is indeed the same message that we sent originally. \n",
    "\n",
    "The Decode function works by using FME with the integers in the encoded message and the private key. For example, if we want to decode the first character of our message, we pass the integer along with the private key to the function Decode. Decode works by using FME again to convert the encoded character to the original ASCII integer: "
   ]
  },
  {
   "cell_type": "code",
   "execution_count": 19,
   "metadata": {},
   "outputs": [
    {
     "data": {
      "text/plain": [
       "82"
      ]
     },
     "execution_count": 19,
     "metadata": {},
     "output_type": "execute_result"
    }
   ],
   "source": [
    "FME(C[0], d, n)"
   ]
  },
  {
   "cell_type": "markdown",
   "metadata": {},
   "source": [
    "In this example, we convert just the first character of our encoded message using our private key. This returns the integer 82. We then use the function Convert_Num to convert this integer to a character using the standard ASCII conversion:"
   ]
  },
  {
   "cell_type": "code",
   "execution_count": 20,
   "metadata": {},
   "outputs": [
    {
     "data": {
      "text/plain": [
       "'R'"
      ]
     },
     "execution_count": 20,
     "metadata": {},
     "output_type": "execute_result"
    }
   ],
   "source": [
    "Convert_Num([82])"
   ]
  },
  {
   "cell_type": "markdown",
   "metadata": {},
   "source": [
    "We see that 82 is the ASCII integer for the character 'R', which is indeed the first character in our message \"RSA rocks\".\n",
    "\n",
    "We do this to each number in the encoded message, put them together, and we have our original message.\n",
    "\n",
    "And this is the basic scheme of RSA. "
   ]
  },
  {
   "cell_type": "markdown",
   "metadata": {},
   "source": [
    "### 6. Code Exchange Results (5 points) \n",
    "<span style=\"color:white\"> Now that your code is working and you are able read and write messages, include 3 complete examples of exchanging code (and exchange is both reading a message and responding) from Piazza here.  Both call your code and output code exchange results here. \n",
    "We are just looking to see which 3 codes you have exchanged in Piazza.</span>"
   ]
  },
  {
   "cell_type": "code",
   "execution_count": 21,
   "metadata": {},
   "outputs": [
    {
     "name": "stdout",
     "output_type": "stream",
     "text": [
      "Question 1\n",
      "What song best describes the feeling you get when your RSA code is working?\n",
      "Response: [4623, 1974, 2497, 4250, 3283, 2405, 1349, 1105, 1168, 1262, 3942, 4592, 4679]\n",
      "\n",
      "Question 2\n",
      "What movie could you watch over and over again and never get sick of? Is it your favorite movie of all time?\n",
      "Response: [313, 1461, 8183, 487, 4711, 8570, 8183, 487, 4161, 4161, 5887, 4711]\n",
      "\n",
      "Question 3\n",
      "Where is one fictional place you would like to travel to?\n",
      "Response: [25175, 27635, 11098, 11098, 24081, 30036, 32392, 9561, 13845, 33410, 229, 32539]\n"
     ]
    }
   ],
   "source": [
    "# Exchange 1\n",
    "n,e = 5251, 3        #Public key\n",
    "\n",
    "n,d = 5251, 3403     #Private key\n",
    "\n",
    "Message = [2128, 1150, 4250, 1349, 1262, 3336, 2371, 2497, 519, 1262, 1263, 1105, 3336, 1349, 1262, 2310, 1105, 3336, 4115, 762, 2405, 1263, 1105, 3336, 1262, 1349, 1150, 1105, 1262, 506, 1105, 1105, 4723, 2405, 2497, 519, 1262, 1974, 2371, 58, 1262, 519, 1105, 1349, 1262, 4839, 1150, 1105, 2497, 1262, 1974, 2371, 58, 762, 1262, 13, 4679, 1573, 1262, 4115, 2371, 2310, 1105, 1262, 2405, 3336, 1262, 4839, 2371, 762, 1560, 2405, 2497, 519, 3250]\n",
    "\n",
    "print(\"Question 1\")\n",
    "print(Decode(n,d,Message))\n",
    "\n",
    "# Response 1\n",
    "print(\"Response:\", Encode(n, e, \"Dynamite, BTS\"))\n",
    "\n",
    "#-----------------------------------------------#\n",
    "\n",
    "# Exchange 2\n",
    "n, e = 9071, 8545             #Public Key\n",
    "\n",
    "n, d = 9071, 7201             #Private Key\n",
    "\n",
    "Message = [2615, 861, 5887, 8183, 3506, 5706, 854, 2048, 88, 487, 3506, 6656, 854, 3357, 4161, 4925, 3506, 5911, 854, 3357, 3506, 653, 5887, 8183, 6656, 861, 3506, 854, 2048, 487, 4711, 3506, 5887, 1461, 4925, 3506, 854, 2048, 487, 4711, 3506, 5887, 7617, 5887, 88, 1461, 3506, 5887, 1461, 4925, 3506, 1461, 487, 2048, 487, 4711, 3506, 7617, 487, 8183, 3506, 8570, 88, 6656, 1072, 3506, 854, 8004, 1414, 3506, 313, 8570, 3506, 88, 8183, 3506, 5911, 854, 3357, 4711, 3506, 8004, 5887, 2048, 854, 4711, 88, 8183, 487, 3506, 5706, 854, 2048, 88, 487, 3506, 854, 8004, 3506, 5887, 4161, 4161, 3506, 8183, 88, 5706, 487, 1414]\n",
    "\n",
    "print()\n",
    "print(\"Question 2\")\n",
    "print(Decode(n, d, Message))\n",
    "\n",
    "# Response 2\n",
    "print(\"Response:\", Encode(n, e, \"Interstellar\"))\n",
    "\n",
    "#--------------------------------------------#\n",
    "\n",
    "# Exchange 3\n",
    "n, e = 36437, 35921           #Public Key\n",
    "\n",
    "n, d = 36437, 28733             #Private Key\n",
    "\n",
    "Message =[28414, 32539, 30036, 33410, 30036, 32392, 27635, 19942, 32392, 35842, 18874, 30036, 32392, 32662, 27635, 25684, 229, 27635, 35842, 18874, 13845, 24081, 32392, 5916, 24081, 13845, 25684, 30036, 32392, 1210, 35842, 9524, 32392, 34374, 35842, 9524, 24081, 11098, 32392, 24081, 27635, 5082, 30036, 32392, 229, 35842, 32392, 229, 33410, 13845, 24126, 30036, 24081, 32392, 229, 35842, 1974]\n",
    "print()\n",
    "print(\"Question 3\")\n",
    "print(Decode(n, d, Message))\n",
    "\n",
    "print(\"Response:\", Encode(n, e, \"Middle Earth\"))"
   ]
  },
  {
   "cell_type": "markdown",
   "metadata": {},
   "source": [
    "### 7. Write a Narrative (25 points) \n",
    "<span style=\"color:DarkRed\">TWO pages of meaningful narrative about your process - not including the examples -  (800 words) here in this block. Include specifc examples of debugging an challenges referencing your individual process. Responses that are vague, lacking in specific and individual details, or sound like CHatGPT will not recive full credit. Include the following:\n",
    "\n",
    "* Describe your process. Did you plan ahead? Did you wing it? What have you learned about your own process? \n",
    "* Describe the results of exchanging keys and codes with classmates. Did it work the first time or did you need to make adjustments?<span style = \"color:white\">  Use the word fortitude\n",
    "\n",
    "* What was most challenging? <span style = \"color:white\">  Use a cooking metaphor.\n",
    "\n",
    "* Who helped you with your project?  Which resources were most helpful?\n",
    "\n",
    "* What was your Best Mistake? (funniest? most frustrating? the one you learned the most from?)</span>"
   ]
  },
  {
   "cell_type": "markdown",
   "metadata": {},
   "source": [
    "My process for this project was relatively linear. This Jupyter notebook broke down the functions needed for RSA and provided all the necessary documentation to proceed in the coding in a straightforward way. However, in order to understand how all the pieces fit together, I had to go back and watch Prof. Ketelsen's lectures on RSA encryption. I took careful notes during the video to make sure I understood everything. Specifically, the slides about the assumptions in RSA, where the relationships between p, q, n, e, and d, were explained was very helpful in later writing the code. It was also just interesting to see so many different ideas that we had been working with come together -- it was pretty mind blowing to see the Chinese Remainder Theorem tie everything together at the end. This big picture understanding helped me come up with ideas for the custom feature. I learned that, although it is possible to code without understanding the bigger picture, it is much more enjoyable to code when you understand the bigger picture, and it is probably more efficient, since you are thinking about how your function fits in with other functions and you will design it so that it does this well. \n",
    "\n",
    "On to the coding part. Siriam's algorithms for FME, EA, and EEA were essential, and saved countless hours. The time I spent the most on were the Find_Keys functions. The first time I coded ```Find_Public_Key_e``` I just used the lowest possible ```e``` I could find. I knew at the time I would change this, but I was focused on getting the whole thing to run. This was a non-essential feature I could add later. After I had the whole thing running, it seemed better to choose testing randomly chosen possible e's so that different ```e```'s could be generated from the same ```(p, q)```. \n",
    "\n",
    "For ```Find_Private_Key_d```, ```d``` is the second Bézout coefficient of gcd(e,(p-1)(q-1)), which is calculated using EEA. When I was testing, I discovered that sometimes it returned a negative value. To fix this, I added a ```while``` loop to flip its sign. Understanding modular inverses was essential to understanding why we need the Bezout coefficients. I spent a lot of time in the book/watching the lecture videos understanding modular arithmetic, and I felt like it paid off in this function, which, though only a few lines, really required an understanding of RSA and modular inverses to get right. \n",
    "\n",
    "For ```Encode``` and ```Decode```, the first time I coded it I forgot to use FME, so it was just using Python's %. I didn't notice it on my tests because I was using fairly small numbers, but I did catch it when looking through my functions a second time. Another issue I kept running into was the types of the input and outputs. I learned the value of good commenting and later I discovered type annotations which I found essential to keeping everything readable. I also appreciated the ability to hover over functions to peak at their type annotations/comments in VS Code. \n",
    "\n",
    "On to exchanging codes. It definitely didn't work the first time. For example, I mistakenly called Encode with the private key instead of the public key. That was \"user error\" and not a mistake with my code, however. Thankfully, I found that no major changes needed to be made. It was a feeling of great relief when it worked the first time.\n",
    "\n",
    "The most challenging part of the assignment was the custom feature. Because it is my own thing, I spent much more time with it. I'll talk more about that in the custom feature section. For this beginning part, the most challenging part was just understanding all the pieces and how they fit together. After that, the project was helpfully structured in a way where I could proceed from function to function in a pretty linear manner. But again, actually understanding what was going on required more effort than the actual coding.  \n",
    "\n",
    "Resources: I believe I used only class resources for this first part. The lecture video on RSA was very helpful in understanding the big picture. Siriam's lectures on the algorithms -- also the proofs! -- were very interesting and of course his going through some of the essential functions for us saved a lot of time. I consulted Rosen a few times at the beginning, but later felt that the other resources provided were more helpful.\n",
    "\n",
    "I think my \"best\" mistake was that I wished I did more work on testing how fast my functions were running. I guess in this project I was more focused on getting the coding done and understanding how the pieces fit together. I wish I had spent more time measuring the speed of some of the functions. Since this is my first semester in the program and I don't come from an engineering background, the focus on speed/efficiency is something I'm still getting used to, and I should focus more on measuring such things in the future. On similar lines, I believe I could have finished this project sooner if I had shown more fortitude. In the future, I'd like to complete assignments with more of a buffer before the deadline."
   ]
  },
  {
   "cell_type": "markdown",
   "metadata": {
    "tags": []
   },
   "source": [
    "### 8. How to Break Code. (10 points)\n",
    "\n",
    "<span style=\"color:DarkRed\">\n",
    "\n",
    "\n",
    "**This section (and section 9 and 10) of the project is only available to students exchanging codes by the Friday (midnight) before the project is due.**\n",
    "\n",
    "**Implementing a factoring algorithm:**\n",
    "\n",
    "Begin by coding the basic brute force factorization algorithm given in pseudocode below.\n",
    "\n",
    "Brute Force Factoring\n",
    "<pre><code>def factorize(n):\n",
    "    # n is a number, return the smallest factor of n\n",
    "    for i from 2 to n-1:\n",
    "        if i divides n:\n",
    "            return i\n",
    "        return FALSE\n",
    "        </code></pre>"
   ]
  },
  {
   "cell_type": "code",
   "execution_count": 22,
   "metadata": {},
   "outputs": [],
   "source": [
    "def factorize(n):\n",
    "    for i in range(2,n):\n",
    "        if n % i == 0:\n",
    "            return i\n",
    "    return False"
   ]
  },
  {
   "cell_type": "markdown",
   "metadata": {},
   "source": [
    "<span style=\"color:DarkRed\"> After you have tested your RSA package yourself, and tested it with classmates by publishing both the private and public keys on Piazza, post 2 messages with just the public keys for people to break on the \"Just Public Keys\" thread - use both very small n ‘s (under 1000) for practice. Feel free to come up with n's that create a challenge.\n",
    "        \n",
    "* Explain in detail how breaking works in this section using markdown blocks. Demo a short example with a small n. What are the complete steps? What tools do you need? <span style = \"color:white\">  Use a sports metaphor.\n",
    "* Try brute forcing a larger value of n, say 15-18 digits long. What do you notice? (If this is taking a while, just ride it out, or Ctrl+C will KeyboardInterrupt the cell block). Provide a sample large n that will take ~3-5 min to crack. \n",
    "    * Optional Challenge: Consider illustrating this with python math and time modules. matplotlib and time are good examples. Documentation is available.\n",
    "* How secure is RSA? Why is it difficult to break codes in RSA? \n",
    "* Is our implementation of RSA secure? What are it's flaws? </span>"
   ]
  },
  {
   "cell_type": "markdown",
   "metadata": {},
   "source": [
    "\"Code breaking\" here means discovering the private key (n, d) from the public key (n, e). Since n is common to both, we just need to find d. We give ourselves the public key as it is public. Recall that to generate our keys, we used two primes, p and q. So, if we can find these two primes, we can generate all of n, e, and d.\n",
    "\n",
    "n was calculated by simply multiplying p and q. So we need to reverse this process, which means factoring n. In the brute force algorithm factorize(n) above, we test each integer from 2 to n and see if it divides n. We return the first integer that does so. Since, by the Fundamental Theorem of Arithmetic, every integer greater than 1 has a unique prime factorization, and n was found by mulitplying two primes, the returned integer is guaranteed to be either p or q. The second prime factor is found by dividing n by the returned integer. \n",
    "\n",
    "This process is shown in the following code block:"
   ]
  },
  {
   "cell_type": "code",
   "execution_count": 23,
   "metadata": {},
   "outputs": [
    {
     "name": "stdout",
     "output_type": "stream",
     "text": [
      "The public key is 4902377 3497363\n",
      "The private key is 4902377 979067\n",
      "One of the factors of n is: 1811\n",
      "The second factor is: 2707\n"
     ]
    }
   ],
   "source": [
    "# Choose two primes\n",
    "p = 2707\n",
    "q = 1811\n",
    "\n",
    "n, e = Find_Public_Key_e(p, q)\n",
    "d = Find_Private_Key_d(e, p, q)\n",
    "print(\"The public key is\", n, e)\n",
    "print(\"The private key is\", n, d)\n",
    "\n",
    "factor1 = factorize(n)\n",
    "print(\"One of the factors of n is:\", factor1)\n",
    "\n",
    "factor2 = n//factor1\n",
    "print(\"The second factor is:\", factor2)"
   ]
  },
  {
   "cell_type": "markdown",
   "metadata": {},
   "source": [
    "We can see that factor1 and factor2 are indeed the two primes we used to calculate our keys. Now, we simply call our function ```Find_Private_Key_d``` to find ```d```, and use this to decode the message in the same way we did in the code walkthrough:"
   ]
  },
  {
   "cell_type": "code",
   "execution_count": 24,
   "metadata": {},
   "outputs": [
    {
     "name": "stdout",
     "output_type": "stream",
     "text": [
      "Private key: 979067\n",
      "Hacked private key: 979067\n"
     ]
    }
   ],
   "source": [
    "hacked_d = Find_Private_Key_d(e, factor1, factor2)\n",
    "print(\"Private key:\", d)\n",
    "print(\"Hacked private key:\", hacked_d)"
   ]
  },
  {
   "cell_type": "markdown",
   "metadata": {},
   "source": [
    "So, is RSA bunk? Far from it. The primes we used to generate our keys were very small -- only 4 digits. In my environment, if I increase their size any higher than 6833 and 6899, so that n = 47485817, my Python kernel dies. This is because factoring is much more computationally intensive than multiplying or modding, and, although there are more efficient algorithms available, even these are not efficient enough to be of practical use."
   ]
  },
  {
   "cell_type": "code",
   "execution_count": 25,
   "metadata": {},
   "outputs": [],
   "source": [
    "if False:\n",
    "    # running this causes my kernel to die\n",
    "    p = 6899  \n",
    "    q = 6907\n",
    "    n,e = Find_Public_Key_e(p,q)\n",
    "    print(n,e)\n",
    "\n",
    "    factorize(n)"
   ]
  },
  {
   "cell_type": "markdown",
   "metadata": {},
   "source": [
    "There are other issues with RSA as we've implemented it which make it vulnerable to frequency analysis. Our messages are encoded as lists of integers, where each integer represents a character in the original message. Since some letters in English are more frequent than others, a code breaker could analyze an intercepted message and correlate the frequency of repeated numbers to the frequency of ascii characters from some dataset. Various hypotheses could be tested which could lead to someone discovering the message's contents without having to factor ```n```."
   ]
  },
  {
   "cell_type": "markdown",
   "metadata": {
    "tags": []
   },
   "source": [
    "### 9. Code Breaking: Complete Examples (5 points)\n",
    "\n",
    "<span style=\"color:DarkRed\">\n",
    "\n",
    "* Decode one example from Piazza in detail showing all the steps. Use a combination of code and markdown blocks.\n",
    "* Decode and Respond to 3 \"just codes with public keys\" in Piazza with different sizes of n. Include complete results here - you may just show the results here.</span>\n"
   ]
  },
  {
   "cell_type": "markdown",
   "metadata": {},
   "source": [
    "To break a coded message we use pass n to our factorize function to find one of its prime factors. We then divide n by this factor to find the other prime factor. Now that we have the two prime factors, we can find the private key using ```Find_Private_Key_d``` and decode the message as if we were the intended recipient. \n",
    "\n",
    "Using the first post from the \"just codes with public keys\" thread, we have:"
   ]
  },
  {
   "cell_type": "code",
   "execution_count": 26,
   "metadata": {},
   "outputs": [
    {
     "name": "stdout",
     "output_type": "stream",
     "text": [
      "The decoded message is: The Conquistador's treasure is buried south of Creed.\n"
     ]
    }
   ],
   "source": [
    "n,e = 703, 113\n",
    "C = [544, 472, 233, 242, 250, 555, 591, 550, 376, 364, 210, 165, 526, 47, 555, 95, 476, 210, 242, 165, 95, 233, 526, 210, 376, 95, 233, 242, 364, 210, 242, 224, 376, 95, 364, 233, 47, 242, 210, 555, 376, 165, 472, 242, 555, 410, 242, 250, 95, 233, 233, 47, 145]\n",
    "\n",
    "factor1 = factorize(n)\n",
    "factor2 = n//factor1\n",
    "\n",
    "d = Find_Private_Key_d(e,factor1,factor2)\n",
    "\n",
    "M = Decode(n,d,C)\n",
    "print(\"The decoded message is:\", M)"
   ]
  },
  {
   "cell_type": "code",
   "execution_count": 27,
   "metadata": {},
   "outputs": [
    {
     "name": "stdout",
     "output_type": "stream",
     "text": [
      "The private key is: 59749\n",
      "The decoded message is: The best thing about a Boolean is even if you are wrong, you are only off by a bit.\n"
     ]
    }
   ],
   "source": [
    "# Cailyn Craven posted \n",
    "n,e = 130177,13\n",
    "C = [85308, 48594, 15927, 71285, 61037, 15927, 767, 23406, 71285, 23406, 48594, 12676, 37298, 100459, 71285, 90170, 61037, 38946, 38783, 23406, 71285, 90170, 71285, 113492, 38946, 38946, 86792, 15927, 90170, 37298, 71285, 12676, 767, 71285, 15927, 121493, 15927, 37298, 71285, 12676, 84628, 71285, 29228, 38946, 38783, 71285, 90170, 110238, 15927, 71285, 81798, 110238, 38946, 37298, 100459, 126494, 71285, 29228, 38946, 38783, 71285, 90170, 110238, 15927, 71285, 38946, 37298, 86792, 29228, 71285, 38946, 84628, 84628, 71285, 61037, 29228, 71285, 90170, 71285, 61037, 12676, 23406, 10510]\n",
    "\n",
    "factor1 = factorize(n)\n",
    "factor2 = n//factor1\n",
    "\n",
    "d = Find_Private_Key_d(e,factor1,factor2)\n",
    "\n",
    "M = Decode(n,d,C)\n",
    "print(\"The private key is:\", d)\n",
    "print(\"The decoded message is:\", M)"
   ]
  },
  {
   "cell_type": "code",
   "execution_count": 28,
   "metadata": {},
   "outputs": [
    {
     "name": "stdout",
     "output_type": "stream",
     "text": [
      "The private key is: 936857\n",
      "The decoded message is: Whats the fastest your code can break this key? I got down to 0.56 milliseconds!\n"
     ]
    }
   ],
   "source": [
    "# Tyler Teichmann posted\n",
    "n,e = 4440097, 1193\n",
    "C = [2308405, 79162, 4244727, 3355035, 2035913, 1723627, 3355035, 79162, 2914488, 1723627, 1054412, 4244727, 2035913, 3355035, 2914488, 2035913, 3355035, 1723627, 3134308, 2337190, 765334, 3083536, 1723627, 307890, 2337190, 454005, 2914488, 1723627, 307890, 4244727, 3282085, 1723627, 3159822, 3083536, 2914488, 4244727, 4046808, 1723627, 3355035, 79162, 3220943, 2035913, 1723627, 4046808, 2914488, 3134308, 2164157, 1723627, 3215733, 1723627, 843279, 2337190, 3355035, 1723627, 454005, 2337190, 3502570, 3282085, 1723627, 3355035, 2337190, 1723627, 1867558, 1347399, 3436266, 4358917, 1723627, 2948016, 3220943, 2671253, 2671253, 3220943, 2035913, 2914488, 307890, 2337190, 3282085, 454005, 2035913, 4089773]\n",
    "\n",
    "factor1 = factorize(n)\n",
    "factor2 = n//factor1\n",
    "\n",
    "d = Find_Private_Key_d(e,factor1,factor2)\n",
    "\n",
    "M = Decode(n,d,C)\n",
    "print(\"The private key is:\", d)\n",
    "print(\"The decoded message is:\", M)"
   ]
  },
  {
   "cell_type": "code",
   "execution_count": 29,
   "metadata": {},
   "outputs": [
    {
     "name": "stdout",
     "output_type": "stream",
     "text": [
      "The private key is: 367\n",
      "The decoded message is: I am visiting my sister this weekend\n"
     ]
    }
   ],
   "source": [
    "# Adeline Bowman posted\n",
    "n,e = 623,223\n",
    "C = [87, 550, 601, 613, 550, 531, 91, 402, 91, 431, 91, 5, 460, 550, 613, 16, 550, 402, 91, 402, 431, 52, 317, 550, 431, 363, 91, 402, 550, 56, 52, 52, 492, 52, 5, 352]\n",
    "\n",
    "factor1 = factorize(n)\n",
    "factor2 = n//factor1\n",
    "\n",
    "d = Find_Private_Key_d(e,factor1,factor2)\n",
    "\n",
    "M = Decode(n,d,C)\n",
    "print(\"The private key is:\", d)\n",
    "print(\"The decoded message is:\", M)"
   ]
  },
  {
   "cell_type": "markdown",
   "metadata": {},
   "source": [
    "\n",
    "### 10. Custom CODE Feature  (10 points) ##\n",
    "<span style=\"color:DarkRed\">- The custom feature should be a \"Stand Alone\" feature at the end of the notebook. \n",
    "- If you need  to use code from above, please copy the entire package and functions again as part of your feature so it can be tested independently. \n",
    "- You may remove the give code comments in this section.\n",
    "- Be sure to provide a demonstration showing that it works. See RSA Guide for more information and suggestions. \n",
    "- Include a narrative describing your project.\n",
    "- All custom features must include a narrative explaining the features and all code must be commented.</span>\n",
    "\n",
    "**Do not forget the self-grading element.**\n"
   ]
  },
  {
   "cell_type": "code",
   "execution_count": 30,
   "metadata": {},
   "outputs": [
    {
     "name": "stdout",
     "output_type": "stream",
     "text": [
      "\n",
      "Welcome to the RSA Encryptor! We support encrypting and decrypting simple messages as well as .txt files.\n",
      "You can also generate public and private keys here.\n"
     ]
    },
    {
     "name": "stdin",
     "output_type": "stream",
     "text": [
      "\n",
      "Choose:\n",
      "1=Encrypt Message\n",
      "2=Decrypt Message\n",
      "3=Encrypt file\n",
      "4=Decrypt file\n",
      "5=Generate Keys\n",
      "6=Quit\n",
      "\n",
      " 5\n",
      "Enter approximately how many digits you want your keys to be (must be at least 3 digits):  9\n"
     ]
    },
    {
     "name": "stdout",
     "output_type": "stream",
     "text": [
      "5261 5701\n",
      "Your public key is 29992961, 12826297.\n",
      "Your private key is 29992961, 4582633.\n",
      "Continue?\n"
     ]
    },
    {
     "name": "stdin",
     "output_type": "stream",
     "text": [
      "1=Yes\n",
      "2=No\n",
      " 2\n"
     ]
    },
    {
     "name": "stdout",
     "output_type": "stream",
     "text": [
      "Thank you for using the RSA Encryptor!\n"
     ]
    }
   ],
   "source": [
    "import math\n",
    "import random\n",
    "import typing\n",
    "\n",
    "\"\"\"\n",
    "General comments about variable names.\n",
    "\n",
    "When n, e, and d are used in function signatures, they refer\n",
    "to these:\n",
    "    - a public key is an integer tuple (n, e).\n",
    "    - a private key is an integer tuple (n, d).\n",
    "\"\"\"\n",
    "\n",
    "def Convert_Binary_String(_int: int) -> str:\n",
    "    \"\"\"Converts _int to bitstring\"\"\"\n",
    "    l = []\n",
    "    while _int > 0:\n",
    "        k = _int % 2\n",
    "        l.insert(0,k)\n",
    "        _int = _int // 2\n",
    "    \n",
    "    ret = ''\n",
    "    for ch in l:\n",
    "        ret += str(ch)\n",
    "        \n",
    "    return ret\n",
    "\n",
    "def FME(b: int, n: int, m: int) -> int:\n",
    "    \"\"\"Returns b ** n mod m\n",
    "    Fast Modular Exponentiation\n",
    "    \"\"\"\n",
    "    result = 1\n",
    "    square = b\n",
    "    while n > 0:\n",
    "        k = n % 2\n",
    "        n = int(n/2)\n",
    "        if k == 1:\n",
    "            result = result*square % m\n",
    "        square = square*square % m\n",
    "    \n",
    "    return result\n",
    "\n",
    "def Euclidean_Alg(a: int, b: int) -> int:\n",
    "    \"\"\"Returns gcd(a,b)\"\"\"\n",
    "    # ensure a > b\n",
    "    if b > a:\n",
    "        tmp = a\n",
    "        a = b\n",
    "        b = tmp\n",
    "        \n",
    "    while b > 0:\n",
    "        k = a % b\n",
    "        a = b\n",
    "        b = k\n",
    "        \n",
    "    return a\n",
    "\n",
    "def EEA(a: int, b: int) -> tuple[int,int,int]:\n",
    "    \"\"\"Returns gcd(a,b) and Bézout coeffs\n",
    "    Example: EEA(77,43) -> (1,19,-34)\n",
    "    \"\"\"\n",
    "    # ensure a > b\n",
    "    if b > a:\n",
    "        tmp = a\n",
    "        a = b\n",
    "        b = tmp\n",
    "    \n",
    "    s1, t1 = 1, 0\n",
    "    s2, t2 = 0, 1\n",
    "\n",
    "    while b > 0:\n",
    "        k = a % b\n",
    "        q = a // b\n",
    "\n",
    "        a = b\n",
    "        b = k\n",
    "\n",
    "        s1hat, t1hat = s2, t2\n",
    "        s2hat, t2hat = s1-q*s2, t1-q*t2\n",
    "\n",
    "        s1, t1 = s1hat, t1hat\n",
    "        s2, t2 = s2hat, t2hat\n",
    "\n",
    "    return (a, s1, t1)\n",
    "\n",
    "def Find_Public_Key_e(p: int, q: int) -> tuple[int,int]:\n",
    "    \"\"\"Calculates public key\n",
    "    ASSUME p and q are prime\n",
    "    \"\"\"\n",
    "    n = p*q\n",
    "    \n",
    "    modulus = (p-1)*(q-1)\n",
    "    \n",
    "    # will choose from list of possible e's\n",
    "    lst = list(range(2,modulus))\n",
    "\n",
    "    for i in range(2,modulus):\n",
    "        e = random.choice(lst)  \n",
    "        gcd = Euclidean_Alg(e, modulus)\n",
    "        if gcd == 1 and e != p and e != q:\n",
    "            break\n",
    "        else:\n",
    "            lst.remove(e)\n",
    "            \n",
    "    return (n, e)\n",
    "\n",
    "def Find_Private_Key_d(e: int, p: int, q: int) -> int:\n",
    "    \"\"\"Calculates d\"\"\"\n",
    "    m = (p-1)*(q-1)\n",
    "    EEA_result = EEA(e,m)\n",
    "    d = EEA_result[2]\n",
    "    \n",
    "    # in case d is negative\n",
    "    while d < 0:\n",
    "        d += m\n",
    "    \n",
    "    return d\n",
    "\n",
    "def Encode(n: int, e: int, message: str) -> list[str]:\n",
    "    \"\"\"Encodes message using public key\"\"\"\n",
    "    block_size = find_block_size(n)\n",
    "    \n",
    "    cipher_text = []\n",
    "    \n",
    "    translated_message = Convert_Text(message)\n",
    "    \n",
    "\n",
    "    for ch in translated_message:\n",
    "        enciphered_message = FME(ch,e,n)\n",
    "        enciphered_message = str(enciphered_message)\n",
    "        while len(enciphered_message) < block_size:\n",
    "            # prepend zeros to have uniform block size\n",
    "            enciphered_message='0'+enciphered_message\n",
    "        cipher_text.append(enciphered_message)\n",
    "\n",
    "    return cipher_text\n",
    "\n",
    "def Convert_Text(_string: str) -> list[int]:\n",
    "    \"\"\"Converts each char in string to ASCII int\"\"\"\n",
    "    integer_list = []\n",
    "    \n",
    "    for ch in _string:\n",
    "        integer_list.append(ord(ch))\n",
    "\n",
    "    return integer_list\n",
    "\n",
    "def Convert_Num(_list: list[int]) -> str:\n",
    "    \"\"\"Coverts ASCII ints in _list to string\"\"\"\n",
    "    _string = ''\n",
    "    for i in _list:\n",
    "        _string += chr(i)\n",
    "    return _string\n",
    "\n",
    "def Decode(n: int, d: int, cipher_text: list[int]) -> str:\n",
    "    \"\"\"Uses priv key to decode cipher_text\"\"\"\n",
    "    decrypted_text = []    \n",
    "    for number in cipher_text:\n",
    "        decrypted_text.append(FME(number, d, n))\n",
    "    message = Convert_Num(decrypted_text)\n",
    "\n",
    "    return message\n",
    "\n",
    "def generate_primes(n: int) -> list[int]:\n",
    "    \"\"\"Generates all primes up to n using sieve of eratosthenes\"\"\"\n",
    "    \n",
    "    # l are odd numbers from 3 to sqrt(n)\n",
    "    l = list(range(3,math.ceil(math.sqrt(n)),2))\n",
    "    \n",
    "    # odd numbers up to n\n",
    "    i = list(range(3,n,2))\n",
    "    \n",
    "    for p in l:\n",
    "        a = p\n",
    "        while p < n:\n",
    "            # generate next multiple of p\n",
    "            p += a                \n",
    "            # sieve out p from i\n",
    "            if p in i:          \n",
    "                i.remove(p)\n",
    "\n",
    "    i.insert(0,2)\n",
    "\n",
    "    return i\n",
    "\n",
    "def generate_primes_in_range(m: int, n: int) -> list[int]:\n",
    "    \"\"\"Generates primes in [m,n]\"\"\"\n",
    "    primes = generate_primes(n)\n",
    "    primes_in_range = [prime for prime in primes if prime > m]\n",
    "    return primes_in_range\n",
    "\n",
    "def find_block_size(n: int) -> int:\n",
    "    \"\"\"Determines number digits in n\"\"\"\n",
    "    block_size = 0\n",
    "    while n > 1:\n",
    "        n = n/10\n",
    "        block_size += 1\n",
    "    return block_size\n",
    "\n",
    "def encrypt_file(filepath: str, n: int, e: int) -> None:\n",
    "    \"\"\"Encrypts .txt file and writes _encrypted.txt to same folder as input file\"\"\"\n",
    "    block_size = find_block_size(n)\n",
    "    M = []\n",
    "    with open(filepath, 'r') as file:\n",
    "        while True:\n",
    "            block = file.read(block_size)\n",
    "            if len(block) < block_size:\n",
    "                block2 = block\n",
    "                M.append(block2)\n",
    "            else:\n",
    "                M.append(block)\n",
    "            if not block:\n",
    "                break\n",
    "    M.pop()\n",
    "    index = filepath.find('.')\n",
    "    new_filepath = filepath[:index]\n",
    "    with open(new_filepath + '_encrypted.txt', 'w') as file:\n",
    "        for block in M:\n",
    "            C = Encode(n,e,block)\n",
    "            for ch in C:\n",
    "                str_ch = str(ch)\n",
    "                # prepend 0's to have uniform block size\n",
    "                while len(str_ch) < block_size:\n",
    "                    str_ch = '0' + str_ch\n",
    "                file.write(str_ch)\n",
    "\n",
    "def decrypt_file(filepath: str, n: int, d: int) -> None:\n",
    "    \"\"\"Decrypts a .txt file, writes _decrypted.txt to same folder as input file\"\"\"\n",
    "    block_size = find_block_size(n)\n",
    "    C = []\n",
    "    with open(filepath, 'r') as file:\n",
    "        while True:\n",
    "            block = file.read(block_size)\n",
    "            C.append(block)\n",
    "            if not block:\n",
    "                break\n",
    "    C.pop()\n",
    "    C_int = [int(s) for s in C]\n",
    "    index = filepath.find('.')\n",
    "    new_filepath = filepath[:index]\n",
    "    with open(new_filepath + '_decrypted.txt', 'w') as file:\n",
    "        file.write(Decode(n,d,C_int))\n",
    "\n",
    "def factorize(n: int) -> list[int]:\n",
    "    \"\"\"Brute force algorithm for factoring n\n",
    "    returns list of factors, empty list if prime\n",
    "    \"\"\"\n",
    "    factors = []\n",
    "    for i in range(2,n):\n",
    "        if n % i == 0:\n",
    "            factors.append(i)\n",
    "    return factors\n",
    "\n",
    "def break_key(n: int, e: int, C: list[int]) -> tuple[int, int]:\n",
    "    \"\"\"Given public key and ciphertext, returns private key\"\"\"\n",
    "    factors = factorize(n)\n",
    "    for i in range(len(factors)):\n",
    "        p = factors[i]\n",
    "        for j in range(i + 1,len(factors)):\n",
    "            q = factors[j]\n",
    "            d = Find_Private_Key_d(e,p,q)\n",
    "            print('*'*10)\n",
    "            print('Decoded message:', Decode(n,d,C))\n",
    "            print('Private key:', d)\n",
    "            return n,d\n",
    "\n",
    "def miller_rabin_test(n: int, k: int) -> str:\n",
    "    \"\"\"Returns 'composite' if n is composite, 'probably prime' otherwise\n",
    "    \n",
    "    n>2, an odd integer to be tested for primality\n",
    "    k, the number of rounds of testing to perform\n",
    "    \n",
    "    from Wikipedia: https://en.wikipedia.org/wiki/Miller%E2%80%93Rabin_primality_test\n",
    "    \"\"\"\n",
    "    # find s,d such that (2**s)d = n - 1\n",
    "    m = n-1\n",
    "    d = m\n",
    "    s = 0\n",
    "    while d % 2 == 0:\n",
    "        d /= 2\n",
    "        s += 1\n",
    "\n",
    "    # run test k times; if composite-ness property not found, n is probably prime\n",
    "    for i in range(k):\n",
    "        a = random.choice(list(range(2,n-2)))\n",
    "        x = FME(a,d,n)\n",
    "        for j in range(s):\n",
    "            y = x**2 % n\n",
    "            if y == 1 and x != 1 and x != m:\n",
    "                return \"composite\"\n",
    "            x = y\n",
    "        if y != 1:\n",
    "            return \"composite\"\n",
    "            \n",
    "    return \"probably prime\"\n",
    "\n",
    "def generate_n_dig_keys(t: int) -> tuple[int,int,int]:\n",
    "    \"\"\"Generates primes p,q of approx. len(t) and uses them to produce (n,e,d)\"\"\"\n",
    "    primes = []\n",
    "    count = 0\n",
    "\n",
    "    lower = 10**(t-1)+1\n",
    "    upper = 10**t+1\n",
    "\n",
    "    for i in range(lower,upper,2):\n",
    "        n = random.choice(list(range(lower,upper,2)))\n",
    "        p = miller_rabin_test(n,40)\n",
    "        if p == \"probably prime\":\n",
    "            if p not in primes:\n",
    "                primes.append(n)\n",
    "                count += 1\n",
    "            if count == 2:\n",
    "                break\n",
    "                \n",
    "    p,q = primes\n",
    "    n = (p-1)*(q-1)\n",
    "    \n",
    "    n,e = Find_Public_Key_e(p,q)\n",
    "    d = Find_Private_Key_d(e,p,q)\n",
    "\n",
    "    return (n,e,d)\n",
    "\n",
    "def break_file(n: int, e: int, filepath: str) -> int:\n",
    "    \"\"\"Given a public key (n,e) and a filepath, will attempt to break public key\"\"\"\n",
    "    C=[]\n",
    "    block_size = find_block_size(n)\n",
    "    with open(filepath, 'r') as file:\n",
    "        for i in range(10):\n",
    "            block = file.read(block_size)\n",
    "            C.append(block)\n",
    "            \n",
    "    C_int = [int(x) for x in C]\n",
    "\n",
    "    d = break_key(n,e,C_int)\n",
    "    return d\n",
    "\n",
    "def display_address_book() -> None:\n",
    "    \"\"\"Prints fake address book\"\"\"\n",
    "    print(\"Here is our address book:\")\n",
    "    print('John Doe (264607518881, 127427) \\nJane Eyre (290208112387, 459953) \\nMoby Duck (136906631761, 257953)\\n')\n",
    "\n",
    "def prompt_pubkey() -> tuple[int,int]:\n",
    "    \"\"\"Prompts for public key\"\"\"\n",
    "    prompt = input(\"Enter public key as xxx, yyy: \")\n",
    "    n,e = prompt.split(',')\n",
    "    n,e = int(n),int(e)\n",
    "    return n,e\n",
    "\n",
    "def prompt_privkey() -> tuple[int,int]:\n",
    "    \"\"\"Prompts for private key\"\"\"\n",
    "    prompt = input(\"Enter private key as xxx, yyy, or -1 if you do not know: \")\n",
    "    if prompt == '-1':\n",
    "        return -1,-1\n",
    "    n,d = prompt.split(',')\n",
    "    n,d = int(n),int(d)\n",
    "    return n,d\n",
    "\n",
    "def prompt_kind_of_ciphertext(n: int) -> list[int]:\n",
    "    \"\"\"Prompts for format of ciphertext\n",
    "    Returns ciphertext as list of ints\n",
    "    \"\"\"\n",
    "    print('Choose a format to enter your ciphertext:')\n",
    "    format = input(\"1=[xxx, yyy, zzz, ...]\\n2='xxxyyyzzz...'\\n\")\n",
    "    if format == '1':\n",
    "        return prompt_ciphertext()\n",
    "    elif format == '2':\n",
    "        return prompt_ciphertext2(n)\n",
    "    else:\n",
    "        return prompt_kind_of_ciphertext()\n",
    "\n",
    "def prompt_ciphertext() -> list[int]:\n",
    "    \"\"\"Prompts for a ciphertext in list form; converts strings to ints\n",
    "    Returns list of ints\n",
    "    \"\"\"\n",
    "    prompt = input('Enter a ciphertext as [xxx, yyy, zzz, ...]: ')\n",
    "    prompt = prompt.replace(',','')\n",
    "    prompt = prompt[1:-1]\n",
    "    if \"'\" in prompt:\n",
    "        prompt = prompt.replace(\"'\", \"\")\n",
    "    prompt = prompt.split(' ')\n",
    "    prompt = [int(c) for c in prompt]\n",
    "    return prompt\n",
    "\n",
    "def prompt_ciphertext2(n: int) -> list[int]:\n",
    "    \"\"\"Prompts for ciphertext as a single string\n",
    "    Returns ciphertext as list of ints\n",
    "    \"\"\"\n",
    "    prompt = input('Enter a ciphertext as a single string: ')\n",
    "    block_size = find_block_size(n)\n",
    "    num_blocks = len(prompt)//block_size\n",
    "    C = []\n",
    "    for i in range(num_blocks):\n",
    "        C.append(int(prompt[block_size*i:(block_size*i+block_size)]))\n",
    "    C = [int(c) for c in C]\n",
    "    return C\n",
    "\n",
    "def prompt_break_key() -> tuple[int,int] | bool:\n",
    "    \"\"\"Prompts whether to break key; \n",
    "    if yes, returns private key; if no, false\n",
    "    \"\"\"\n",
    "    print(\"Do you wish to try to break the key?\")\n",
    "    prompt = prompt_yes_no()\n",
    "    if prompt == '1':\n",
    "        n,e = prompt_pubkey()\n",
    "        C = prompt_kind_of_ciphertext(n)\n",
    "        n,d = break_key(n,e,C)\n",
    "        return n,d\n",
    "    elif prompt == '2':\n",
    "        return False\n",
    "    else:\n",
    "        return prompt_yes_no()\n",
    "\n",
    "def prompt_yes_no() -> str:\n",
    "    \"\"\"Prompts yes or no\"\"\"\n",
    "    prompt = input('1=Yes\\n2=No\\n')\n",
    "    if prompt not in ['1','2']:\n",
    "        return prompt_yes_no()\n",
    "    else:\n",
    "        return prompt\n",
    "\n",
    "def prompt_message() -> str:\n",
    "    \"\"\"Prompts for a message to encrypt\"\"\"\n",
    "    prompt = input('Enter a message to encrypt: ')\n",
    "    return prompt\n",
    "\n",
    "def prompt_continue() -> bool:\n",
    "    \"\"\"Prompts to continue or not\n",
    "    Returns true if yes, false otherwise\n",
    "    \"\"\"\n",
    "    print(('Continue?'))\n",
    "    prompt2 = prompt_yes_no()\n",
    "    if prompt2 == '1':\n",
    "        return True\n",
    "    else:\n",
    "        return False\n",
    "\n",
    "def prompt_concatenate(C) -> str:\n",
    "    \"\"\"Prompts to concatenate or not\n",
    "    If yes, returns ciphertext as string; False if no\n",
    "    \"\"\"\n",
    "    print('Do you want to concatenate?')\n",
    "    prompt = prompt_yes_no()\n",
    "    if prompt == '1':\n",
    "        S = ''\n",
    "        for block in C:\n",
    "            S += str(block)\n",
    "        return S\n",
    "    elif prompt == '2':\n",
    "        return ''\n",
    "    else:\n",
    "        return prompt_concatenate(C)\n",
    "\n",
    "def prompt_digs() -> int:\n",
    "    \"\"\"Prompt for length of key\"\"\"\n",
    "    prompt = int(input('Enter approximately how many digits you want your keys to be (must be at least 3 digits): '))\n",
    "    if prompt < 3:\n",
    "        return prompt_digs()\n",
    "    if prompt == 3:\n",
    "        return 2\n",
    "    else:\n",
    "        prompt = prompt//2\n",
    "        return prompt\n",
    "\n",
    "def prompt_menu() -> str:\n",
    "    \"\"\"Prompt for menu options\"\"\"\n",
    "    prompt = input('\\nChoose:\\n1=Encrypt Message\\n2=Decrypt Message\\n3=Encrypt file\\n4=Decrypt file\\n5=Generate Keys\\n6=Quit\\n\\n')\n",
    "    return prompt\n",
    "\n",
    "def main():\n",
    "    print(\"\\nWelcome to the RSA Encryptor! We support encrypting and decrypting simple messages as well as .txt files.\")\n",
    "    print(\"You can also generate public and private keys here.\")\n",
    "    \n",
    "    while True:\n",
    "        prompt = prompt_menu()\n",
    "        # Encrypt message option\n",
    "        if prompt == '1':\n",
    "            print(\"Do you have the recipient's public key?\")\n",
    "            prompt2 = prompt_yes_no()\n",
    "            if prompt2 == '1':\n",
    "                n,e = prompt_pubkey()\n",
    "                M = prompt_message()\n",
    "                C = Encode(n,e,M)\n",
    "                print('Your encrypted message is below:')\n",
    "                print(C)\n",
    "                S = prompt_concatenate(C)\n",
    "                if S:\n",
    "                    print('Your encrypted message is below:')\n",
    "                    print(S)\n",
    "                if not prompt_continue():\n",
    "                    break\n",
    "\n",
    "            elif prompt2 == '2':\n",
    "                print(\"Would you like to view our address book?\")\n",
    "                prompt3 = prompt_yes_no()\n",
    "                if prompt3 == '1':\n",
    "                    display_address_book()\n",
    "                    n,e = prompt_pubkey()\n",
    "                    M = prompt_message()\n",
    "                    C = Encode(n,e,M)\n",
    "                    print('Your encrypted message is below:')\n",
    "                    print(C)\n",
    "                    S = prompt_concatenate(C)\n",
    "                    print('Your encrypted message is below:')\n",
    "                    print(S)\n",
    "                    if not prompt_continue():\n",
    "                        break\n",
    "                else:\n",
    "                    break\n",
    "                \n",
    "        # Decrypt message option\n",
    "        elif prompt == '2':\n",
    "            n,d = prompt_privkey()\n",
    "            if n == -1:\n",
    "                prompt_break_key()\n",
    "            else: \n",
    "                C = prompt_kind_of_ciphertext(n)\n",
    "                M = Decode(n,d,C)\n",
    "                print('Your decrypted message is below:')\n",
    "                print(M)\n",
    "            if not prompt_continue():\n",
    "                break\n",
    "            \n",
    "        # Encrypt file option\n",
    "        elif prompt == '3':\n",
    "            while True:\n",
    "                print(\"Do you have the recipient's public key? \")\n",
    "                prompt2 = prompt_yes_no()\n",
    "                if prompt2 == '1':\n",
    "                    n,e = prompt_pubkey()\n",
    "                    prompt3 = input(\"Enter the path to the file you want to encrypt: \")\n",
    "                    encrypt_file(prompt3,n,e)\n",
    "                    print(f\"\\n-->You should now have a file in the same folder as the input file, with '_encrypted' added to the filename.\")\n",
    "                    break\n",
    "                \n",
    "                # Does not have pubkey\n",
    "                elif prompt2 == '2':\n",
    "                    print(\"Would you like to view our address book?\")\n",
    "                    prompt3 = prompt_yes_no()\n",
    "                    if prompt3 == '1':\n",
    "                        display_address_book()\n",
    "                        n,e = prompt_pubkey()\n",
    "                        prompt = input(\"Enter the path to the file you want to encrypt: \")\n",
    "                        encrypt_file(prompt,n,e)\n",
    "                        print(f\"\\n-->You should now have a file in the same folder as the input file, with '_encrypted' added to the filename.\")\n",
    "                        break\n",
    "                    else:\n",
    "                        break\n",
    "                else:\n",
    "                    continue\n",
    "            \n",
    "        # Decrypt option\n",
    "        elif prompt == '4':\n",
    "            prompt2 = input(\"Enter the path to the file you want to decrypt: \")\n",
    "            n,d = prompt_privkey()\n",
    "            if n == -1:\n",
    "                n,d = prompt_break_key()\n",
    "            decrypt_file(prompt2, n, d)\n",
    "            print(f\"\\n-->You should now have a file in the same folder as the input file, with '_decrypted' added to the filename.\")\n",
    "            if not prompt_continue():\n",
    "                break\n",
    "            \n",
    "        # Generate Keys option\n",
    "        elif prompt == '5':\n",
    "            len_digs = prompt_digs()\n",
    "            n,e,d = generate_n_dig_keys(len_digs)\n",
    "            print(f\"Your public key is {n}, {e}.\")\n",
    "            print(f\"Your private key is {n}, {d}.\")\n",
    "            if not prompt_continue():\n",
    "                break\n",
    "        elif prompt == '6':\n",
    "            break\n",
    "        else:\n",
    "            continue\n",
    "\n",
    "    print(\"Thank you for using the RSA Encryptor!\")\n",
    "\n",
    "if __name__ == \"__main__\":\n",
    "    main()\n"
   ]
  },
  {
   "cell_type": "markdown",
   "metadata": {},
   "source": [
    "### Custom Feature Narrative \n",
    "\n",
    "There are 5 options in my custom module. We'll start with option 5, which generates keys. The technical problem of generating keys comes down to generating prime numbers. To do this, I implemented the Miller-Rabin primality test. I chose to implement this algorithm because it is widely-used and is not obvious how it works. The test is actually a test of compositeness -- it can only tell us with certainty if a number is composite, and that a number is otherwise \"probably prime\". To reduce the chances of a false positive, I run the test 40 when finding primes. If the number fails to trigger a \"composite\" return, then we can be very sure that it is prime. To test the function, I also implemented the Sieve of Eratosthenes, which is the generate_primes(n) function. This function generates all primes up to n. Below, I use it to generate primes up to 10000, and show that there is 100% agreement between it and the miller_rabin_test:"
   ]
  },
  {
   "cell_type": "code",
   "execution_count": 40,
   "metadata": {},
   "outputs": [
    {
     "name": "stdout",
     "output_type": "stream",
     "text": [
      "finished\n"
     ]
    }
   ],
   "source": [
    "sieved_primes = generate_primes(10000)\n",
    "\n",
    "# test all odd numbers from 5 to the last prime in sieved_primes\n",
    "# no output means miller_rabin_test did not produce any false positives\n",
    "for i in range(5,sieved_primes[-1]+1,2):\n",
    "    result = miller_rabin_test(i, 40)\n",
    "    if result == \"probably prime\" and i not in sieved_primes:\n",
    "        print(f\"Miller-Rabin test mistakenly determined {i} was prime\") \n",
    "\n",
    "print(\"finished\")"
   ]
  },
  {
   "cell_type": "markdown",
   "metadata": {},
   "source": [
    "Besides the inherent interest in implementing the Miller-Rabin test, it is also a better way to generate primes within a certain range, which is the functionality I required. To do so with the Sieve of Eratosthenes, you have to first generate all the primes up to the upper bound of your range, and then choose a prime from within that range, which means you've done a good deal of wasted computation finding the primes below the lower bound. For primes of more than several digits this takes far too long to be useable. In my function generate_n_dig_keys(n), I determine the range of numbers I want to search between first, and then randomly test numbers in this range, stopping after I have found two suitable primes.\n",
    "\n",
    "Once we generate our keys, we can use them to encrypt messages using option 1. The only improvement I made here was to convert each encoded character from an int to a string, and to prepend 0's so that each digit-string is the same size. This was necessary because I wanted to be able to concatenate the blocks together into one long string. If the length of the blocks varies, there is a parsing problem: the decode function can't know ahead of time which blocks are potentially smaller than the others. While this doesn't actually solve the frequency analysis problem, having one long string of digits at least *looks* harder to crack. Block sizes are determined by the size of n, so that the decode function calculates the same block size as the encode function. \n",
    "\n",
    "Option 2 -- decypting messages -- follows the same pattern as part 1 of the assignment.\n",
    "\n",
    "Options 3 and 4 involve encrypting and decypting files. This follows essentially the same pattern as encrypting and decypting messages, except we are reading files. The file reader reads in blocks of strings from the file. Each block is encoded/decoded and appended to a list. This scheme means that whatever the size limit of a list is in python will be the limit of the size of the file that can be encrypted or decrypted.\n",
    "\n",
    "And that is my custom feature. \n"
   ]
  },
  {
   "cell_type": "markdown",
   "metadata": {},
   "source": [
    "**Please use the grading guide below to self grade your Custom Feature.**\n",
    "\n",
    "GRADING FOR CUSTOM FEATURE:\n",
    "\n",
    "10 pts  Wow.  It is amazing.\n",
    "        Shows initiative and originality. \n",
    "        You did something extra special and pushed yourself.\n",
    "        You went beyond all expectations \n",
    "        You broke the rules in a creative way. \n",
    "        Your coding and commenting is exceptional.\n",
    "        Excellent \n",
    "\n",
    "7-9 points - It is GOOD! \n",
    "        You were a “self starter.” \n",
    "         You did everything  requested. \n",
    "        All expectations met. \n",
    "       \tYou did a very good job. \n",
    "        Good use of commenting.\n",
    "        Shows mastery of skills.\n",
    "\n",
    "5-6 points  - Okay.\n",
    "        Minimum requirements.\n",
    "        Commenting weak.\n",
    "\n",
    "0-4 points - It is not finished. \n",
    "            Does meet objectives. \n",
    "            Did not follow directions. \n",
    "            Chose not to do this part (which is a totally fine choice)\n"
   ]
  },
  {
   "cell_type": "markdown",
   "metadata": {},
   "source": [
    "## Self grading of custom feature ##\n",
    "\n",
    "Here in this block, please rate what score out of 8 your custom feature merits given the criteria above:\n",
    "\n",
    "* For example, if you are brand new to programming, using a main function could be an amazing feature - tell me how this helped you move to a new level.\n",
    "* In what ways did you push yourself? Did you try something you've never done before?\n",
    "* Alternatively, if you just did not have the time to do the custom feature, this is actually just fine and a reasonable choice. No judgment."
   ]
  },
  {
   "cell_type": "markdown",
   "metadata": {},
   "source": [
    "I would give myself 7/10 for the custom feature. I think it's a decent program, and I did push myself in completing it. However, if I could do it again I would change my priorities before starting. \n",
    "\n",
    "Here are some concrete takeaways I got from writing this custom feature:\n",
    "    - input validation:  takes a lot of time to code. I came up with my own way of  doing it, but I wish I knew about pyinputplus BEFORE starting this. Also, I didn't use try / excepts which I gather is the usual way of doing this. In general, I feel like I don't use try/excepts as much I should. \n",
    "    - type annotations: extremely useful for this project, especially because of all the conversions between ints, strs, and lists of strs/ints. \n",
    "    - the Python style guide: I didn't read the whole thing but I did read substantial parts, especially related to commenting and type annotations. I reformatted all my functions to (hopefully) conform to the style guide, at least in these respects. \n",
    "    - unit testing: while I am good at testing my functions as I go, I want to get better at systematically testing and storing my tests in separate files. I did find myself rewriting tests a lot even though I know this is not best practice. I recently learned about pytest, and plan to use this in future. \n",
    "    - priorities: in the end I feel I could've/should've done more with writing/understanding algorithms and testing the speed of things. I'm not sure that I really added much to the original project. Part of what I learned in this was what I should be focusing on as I progress through this program -- writing a cute CL program is nice, but I think my time would have been better spent focusing more on the computer science and math part of things, since that is what this degree is about. I think I missed the opportunity to dive deeper, and for that reason I give myself a 7/10. "
   ]
  }
 ],
 "metadata": {
  "kernelspec": {
   "display_name": "Python 3 (ipykernel)",
   "language": "python",
   "name": "python3"
  },
  "language_info": {
   "codemirror_mode": {
    "name": "ipython",
    "version": 3
   },
   "file_extension": ".py",
   "mimetype": "text/x-python",
   "name": "python",
   "nbconvert_exporter": "python",
   "pygments_lexer": "ipython3",
   "version": "3.10.8"
  }
 },
 "nbformat": 4,
 "nbformat_minor": 4
}
